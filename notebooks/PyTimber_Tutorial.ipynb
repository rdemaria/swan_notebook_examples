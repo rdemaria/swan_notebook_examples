{
 "cells": [
  {
   "cell_type": "markdown",
   "metadata": {},
   "source": [
    "# PyTimber Tutorial\n",
    "<hr style=\"border-top-width: 4px; border-top-color: #34609b;\">\n",
    "\n",
    "Accessing the CERN logging database and extracting machine parameters."
   ]
  },
  {
   "cell_type": "code",
   "execution_count": 1,
   "metadata": {
    "collapsed": true
   },
   "outputs": [],
   "source": [
    "import pytimber\n",
    "import time"
   ]
  },
  {
   "cell_type": "code",
   "execution_count": 2,
   "metadata": {
    "collapsed": true
   },
   "outputs": [],
   "source": [
    "db = pytimber.LoggingDB()"
   ]
  },
  {
   "cell_type": "markdown",
   "metadata": {},
   "source": [
    "## Search for parameters\n",
    "\n",
    "Use the wildcard %"
   ]
  },
  {
   "cell_type": "code",
   "execution_count": 3,
   "metadata": {
    "collapsed": false
   },
   "outputs": [
    {
     "data": {
      "text/plain": [
       "[u'LHC.BCTDC.A6R4.B1:BEAM_INTENSITY',\n",
       " u'LHC.BCTDC.A6R4.B1:BEAM_INTENSITY_ADC24BIT',\n",
       " u'LHC.BCTDC.A6R4.B2:BEAM_INTENSITY',\n",
       " u'LHC.BCTDC.A6R4.B2:BEAM_INTENSITY_ADC24BIT',\n",
       " u'LHC.BCTDC.B6R4.B1:BEAM_INTENSITY',\n",
       " u'LHC.BCTDC.B6R4.B1:BEAM_INTENSITY_ADC24BIT',\n",
       " u'LHC.BCTDC.B6R4.B2:BEAM_INTENSITY',\n",
       " u'LHC.BCTDC.B6R4.B2:BEAM_INTENSITY_ADC24BIT',\n",
       " u'LHC.BCTFR.A6R4.B1:BEAM_INTENSITY',\n",
       " u'LHC.BCTFR.A6R4.B1:BEAM_INTENSITY_LOBW',\n",
       " u'LHC.BCTFR.A6R4.B2:BEAM_INTENSITY',\n",
       " u'LHC.BCTFR.A6R4.B2:BEAM_INTENSITY_LOBW',\n",
       " u'LHC.BCTFR.B6R4.B1.DEV:BEAM_INTENSITY_HBW',\n",
       " u'LHC.BCTFR.B6R4.B1.DEV:BEAM_INTENSITY_LBW',\n",
       " u'LHC.BCTFR.B6R4.B1:BEAM_INTENSITY',\n",
       " u'LHC.BCTFR.B6R4.B1:BEAM_INTENSITY_LOBW',\n",
       " u'LHC.BCTFR.B6R4.B2.DEV:BEAM_INTENSITY_HBW',\n",
       " u'LHC.BCTFR.B6R4.B2.DEV:BEAM_INTENSITY_LBW',\n",
       " u'LHC.BCTFR.B6R4.B2:BEAM_INTENSITY',\n",
       " u'LHC.BCTFR.B6R4.B2:BEAM_INTENSITY_LOBW',\n",
       " u'LHC.BWCM.B1:BEAM_INTENSITY',\n",
       " u'LHC.BWCM.B2:BEAM_INTENSITY']"
      ]
     },
     "execution_count": 3,
     "metadata": {},
     "output_type": "execute_result"
    }
   ],
   "source": [
    "db.search(\"%BEAM_INTENSITY%\")"
   ]
  },
  {
   "cell_type": "markdown",
   "metadata": {},
   "source": [
    "## Explore the parameter tree\n",
    "\n",
    "use the ipython autocomplete (TAB) to explorer the parameter tree interactively"
   ]
  },
  {
   "cell_type": "code",
   "execution_count": 4,
   "metadata": {
    "collapsed": false
   },
   "outputs": [
    {
     "data": {
      "text/plain": [
       "[u'LHC.BQM.B1:ADC_AQUISITION_MAX',\n",
       " u'LHC.BQM.B1:ADC_AQUISITION_MIN',\n",
       " u'LHC.BQM.B1:ADC_WAVEFORM',\n",
       " u'LHC.BQM.B1:ATTENUATION',\n",
       " u'LHC.BQM.B1:BUNCH_INTENSITIES',\n",
       " u'LHC.BQM.B1:BUNCH_INTENSITY_MAX',\n",
       " u'LHC.BQM.B1:BUNCH_INTENSITY_MEAN',\n",
       " u'LHC.BQM.B1:BUNCH_INTENSITY_MIN',\n",
       " u'LHC.BQM.B1:BUNCH_INTENSITY_STDDEV',\n",
       " u'LHC.BQM.B1:BUNCH_LENGTHS',\n",
       " u'LHC.BQM.B1:BUNCH_LENGTH_MAX',\n",
       " u'LHC.BQM.B1:BUNCH_LENGTH_MEAN',\n",
       " u'LHC.BQM.B1:BUNCH_LENGTH_MIN',\n",
       " u'LHC.BQM.B1:BUNCH_LENGTH_STDDEV',\n",
       " u'LHC.BQM.B1:BUNCH_MEANS',\n",
       " u'LHC.BQM.B1:BUNCH_PEAKS',\n",
       " u'LHC.BQM.B1:BUNCH_PEAK_MAX',\n",
       " u'LHC.BQM.B1:BUNCH_PEAK_MEAN',\n",
       " u'LHC.BQM.B1:BUNCH_PEAK_MIN',\n",
       " u'LHC.BQM.B1:BUNCH_PEAK_STDDEV',\n",
       " u'LHC.BQM.B1:FILLED_BUCKETS',\n",
       " u'LHC.BQM.B1:NO_BUNCHES']"
      ]
     },
     "execution_count": 4,
     "metadata": {},
     "output_type": "execute_result"
    }
   ],
   "source": [
    "db.tree.LHC.Beam_Quality.Beam_1.get_vars()"
   ]
  },
  {
   "cell_type": "markdown",
   "metadata": {},
   "source": [
    "## Get Data\n",
    "\n",
    "Specify a variable name and a timestamp or an interval. Data is always returned as a dictionary of timestamp, values arrays.\n"
   ]
  },
  {
   "cell_type": "code",
   "execution_count": 5,
   "metadata": {
    "collapsed": false
   },
   "outputs": [
    {
     "data": {
      "text/plain": [
       "{u'HX:FILLN': (array([  1.47030292e+09]), array([ 5162.]))}"
      ]
     },
     "execution_count": 5,
     "metadata": {},
     "output_type": "execute_result"
    }
   ],
   "source": [
    "db.get(\"HX:FILLN\",time.time())"
   ]
  },
  {
   "cell_type": "markdown",
   "metadata": {},
   "source": [
    "## Timestamps\n",
    "\n",
    "Timestamps can be give as floating point number, strings, datatime objects.\n",
    "\n",
    "If only one timestamp is given the last value logged prior to the timestamp is given.\n",
    "\n",
    "If the second argument is 'next' the first value logged after the timestamp is given.\n",
    "\n",
    "If two timestamps are given the values logged in between (inclusively) are given.\n",
    "\n",
    "Timestamp are returned as unix timestamp (seconds and fraction from 1970-01-01 00:00:00 GMT) or optionally as datetime object."
   ]
  },
  {
   "cell_type": "code",
   "execution_count": 6,
   "metadata": {
    "collapsed": false
   },
   "outputs": [
    {
     "data": {
      "text/plain": [
       "'The unixtime `1470309909.719` correspond to `2016-08-04 13:25:09.718` local time.'"
      ]
     },
     "execution_count": 6,
     "metadata": {},
     "output_type": "execute_result"
    }
   ],
   "source": [
    "now=time.time()\n",
    "\"The unixtime `%.3f` correspond to `%s` local time.\"%(now,pytimber.dumpdate(now))"
   ]
  },
  {
   "cell_type": "code",
   "execution_count": 7,
   "metadata": {
    "collapsed": false
   },
   "outputs": [
    {
     "data": {
      "text/plain": [
       "{u'HX:FILLN': (array([  1.47030292e+09]), array([ 5162.]))}"
      ]
     },
     "execution_count": 7,
     "metadata": {},
     "output_type": "execute_result"
    }
   ],
   "source": [
    "db.get(\"HX:FILLN\",time.time())"
   ]
  },
  {
   "cell_type": "code",
   "execution_count": 8,
   "metadata": {
    "collapsed": false
   },
   "outputs": [
    {
     "data": {
      "text/plain": [
       "{u'HX:FILLN': (array([  1.47022719e+09]), array([ 5160.]))}"
      ]
     },
     "execution_count": 8,
     "metadata": {},
     "output_type": "execute_result"
    }
   ],
   "source": [
    "db.get(\"HX:FILLN\",'2016-08-03 16:30:00.000')"
   ]
  },
  {
   "cell_type": "code",
   "execution_count": 9,
   "metadata": {
    "collapsed": false
   },
   "outputs": [
    {
     "data": {
      "text/plain": [
       "{u'HX:FILLN': (array([datetime.datetime(2016, 8, 3, 14, 26, 27, 234000)], dtype=object),\n",
       "  array([ 5160.]))}"
      ]
     },
     "execution_count": 9,
     "metadata": {},
     "output_type": "execute_result"
    }
   ],
   "source": [
    "db.get(\"HX:FILLN\",'2016-08-03 16:30:00.000',unixtime=False)"
   ]
  },
  {
   "cell_type": "code",
   "execution_count": 10,
   "metadata": {
    "collapsed": false
   },
   "outputs": [
    {
     "data": {
      "text/plain": [
       "{u'HX:FILLN': (array([  1.47015166e+09]), array([ 5156.]))}"
      ]
     },
     "execution_count": 10,
     "metadata": {},
     "output_type": "execute_result"
    }
   ],
   "source": [
    "db.get(\"HX:FILLN\",'2016-08-02 16:30:00.000','next')"
   ]
  },
  {
   "cell_type": "code",
   "execution_count": 11,
   "metadata": {
    "collapsed": false
   },
   "outputs": [
    {
     "data": {
      "text/plain": [
       "{u'HX:FILLN': (array([  1.47015166e+09,   1.47019695e+09,   1.47019821e+09,\n",
       "           1.47020552e+09,   1.47022719e+09]),\n",
       "  array([ 5156.,  5157.,  5158.,  5159.,  5160.]))}"
      ]
     },
     "execution_count": 11,
     "metadata": {},
     "output_type": "execute_result"
    }
   ],
   "source": [
    "db.get(\"HX:FILLN\",'2016-08-02 16:30:00.000','2016-08-03 16:30:00.000')"
   ]
  },
  {
   "cell_type": "markdown",
   "metadata": {},
   "source": [
    "# Variables\n",
    "\n",
    "Variables can be given as a string, as a pattern, as a list of strings."
   ]
  },
  {
   "cell_type": "code",
   "execution_count": 12,
   "metadata": {
    "collapsed": false
   },
   "outputs": [
    {
     "data": {
      "text/plain": [
       "{u'LHC.BCTDC.A6R4.B1:BEAM_INTENSITY': (array([  1.47030991e+09]),\n",
       "  array([  1.82779195e+14]))}"
      ]
     },
     "execution_count": 12,
     "metadata": {},
     "output_type": "execute_result"
    }
   ],
   "source": [
    "db.get(\"LHC.BCTDC.A6R4.B1:BEAM_INTENSITY\",now)"
   ]
  },
  {
   "cell_type": "code",
   "execution_count": 13,
   "metadata": {
    "collapsed": false
   },
   "outputs": [
    {
     "data": {
      "text/plain": [
       "{u'LHC.BCTDC.A6R4.B1:BEAM_INTENSITY': (array([  1.47030991e+09]),\n",
       "  array([  1.82779195e+14])),\n",
       " u'LHC.BCTDC.A6R4.B2:BEAM_INTENSITY': (array([  1.47030991e+09]),\n",
       "  array([  1.72866142e+14]))}"
      ]
     },
     "execution_count": 13,
     "metadata": {},
     "output_type": "execute_result"
    }
   ],
   "source": [
    "db.get(\"LHC.BCTDC.A6R4.B%:BEAM_INTENSITY\",now)"
   ]
  },
  {
   "cell_type": "code",
   "execution_count": 14,
   "metadata": {
    "collapsed": false
   },
   "outputs": [
    {
     "data": {
      "text/plain": [
       "{u'LHC.BCTDC.A6R4.B1:BEAM_INTENSITY': (array([  1.47030991e+09]),\n",
       "  array([  1.82779195e+14])),\n",
       " u'LHC.BCTDC.A6R4.B2:BEAM_INTENSITY': (array([  1.47030991e+09]),\n",
       "  array([  1.72866142e+14]))}"
      ]
     },
     "execution_count": 14,
     "metadata": {},
     "output_type": "execute_result"
    }
   ],
   "source": [
    "db.get([\"LHC.BCTDC.A6R4.B1:BEAM_INTENSITY\",\"LHC.BCTDC.A6R4.B2:BEAM_INTENSITY\"],now)"
   ]
  },
  {
   "cell_type": "markdown",
   "metadata": {},
   "source": [
    "## Values\n",
    "\n",
    "Values can be scalar (floating point values or string) or vectors. If in a query the length of the vectors is the same, as 2D array is returned, else a list of arrays is returned instead."
   ]
  },
  {
   "cell_type": "code",
   "execution_count": 15,
   "metadata": {
    "collapsed": true
   },
   "outputs": [],
   "source": [
    "# prepare for plotting\n",
    "%matplotlib notebook\n",
    "import matplotlib.pyplot as pl"
   ]
  },
  {
   "cell_type": "code",
   "execution_count": 16,
   "metadata": {
    "collapsed": false
   },
   "outputs": [
    {
     "data": {
      "application/javascript": [
       "/* Put everything inside the global mpl namespace */\n",
       "window.mpl = {};\n",
       "\n",
       "mpl.get_websocket_type = function() {\n",
       "    if (typeof(WebSocket) !== 'undefined') {\n",
       "        return WebSocket;\n",
       "    } else if (typeof(MozWebSocket) !== 'undefined') {\n",
       "        return MozWebSocket;\n",
       "    } else {\n",
       "        alert('Your browser does not have WebSocket support.' +\n",
       "              'Please try Chrome, Safari or Firefox ≥ 6. ' +\n",
       "              'Firefox 4 and 5 are also supported but you ' +\n",
       "              'have to enable WebSockets in about:config.');\n",
       "    };\n",
       "}\n",
       "\n",
       "mpl.figure = function(figure_id, websocket, ondownload, parent_element) {\n",
       "    this.id = figure_id;\n",
       "\n",
       "    this.ws = websocket;\n",
       "\n",
       "    this.supports_binary = (this.ws.binaryType != undefined);\n",
       "\n",
       "    if (!this.supports_binary) {\n",
       "        var warnings = document.getElementById(\"mpl-warnings\");\n",
       "        if (warnings) {\n",
       "            warnings.style.display = 'block';\n",
       "            warnings.textContent = (\n",
       "                \"This browser does not support binary websocket messages. \" +\n",
       "                    \"Performance may be slow.\");\n",
       "        }\n",
       "    }\n",
       "\n",
       "    this.imageObj = new Image();\n",
       "\n",
       "    this.context = undefined;\n",
       "    this.message = undefined;\n",
       "    this.canvas = undefined;\n",
       "    this.rubberband_canvas = undefined;\n",
       "    this.rubberband_context = undefined;\n",
       "    this.format_dropdown = undefined;\n",
       "\n",
       "    this.image_mode = 'full';\n",
       "\n",
       "    this.root = $('<div/>');\n",
       "    this._root_extra_style(this.root)\n",
       "    this.root.attr('style', 'display: inline-block');\n",
       "\n",
       "    $(parent_element).append(this.root);\n",
       "\n",
       "    this._init_header(this);\n",
       "    this._init_canvas(this);\n",
       "    this._init_toolbar(this);\n",
       "\n",
       "    var fig = this;\n",
       "\n",
       "    this.waiting = false;\n",
       "\n",
       "    this.ws.onopen =  function () {\n",
       "            fig.send_message(\"supports_binary\", {value: fig.supports_binary});\n",
       "            fig.send_message(\"send_image_mode\", {});\n",
       "            fig.send_message(\"refresh\", {});\n",
       "        }\n",
       "\n",
       "    this.imageObj.onload = function() {\n",
       "            if (fig.image_mode == 'full') {\n",
       "                // Full images could contain transparency (where diff images\n",
       "                // almost always do), so we need to clear the canvas so that\n",
       "                // there is no ghosting.\n",
       "                fig.context.clearRect(0, 0, fig.canvas.width, fig.canvas.height);\n",
       "            }\n",
       "            fig.context.drawImage(fig.imageObj, 0, 0);\n",
       "        };\n",
       "\n",
       "    this.imageObj.onunload = function() {\n",
       "        this.ws.close();\n",
       "    }\n",
       "\n",
       "    this.ws.onmessage = this._make_on_message_function(this);\n",
       "\n",
       "    this.ondownload = ondownload;\n",
       "}\n",
       "\n",
       "mpl.figure.prototype._init_header = function() {\n",
       "    var titlebar = $(\n",
       "        '<div class=\"ui-dialog-titlebar ui-widget-header ui-corner-all ' +\n",
       "        'ui-helper-clearfix\"/>');\n",
       "    var titletext = $(\n",
       "        '<div class=\"ui-dialog-title\" style=\"width: 100%; ' +\n",
       "        'text-align: center; padding: 3px;\"/>');\n",
       "    titlebar.append(titletext)\n",
       "    this.root.append(titlebar);\n",
       "    this.header = titletext[0];\n",
       "}\n",
       "\n",
       "\n",
       "\n",
       "mpl.figure.prototype._canvas_extra_style = function(canvas_div) {\n",
       "\n",
       "}\n",
       "\n",
       "\n",
       "mpl.figure.prototype._root_extra_style = function(canvas_div) {\n",
       "\n",
       "}\n",
       "\n",
       "mpl.figure.prototype._init_canvas = function() {\n",
       "    var fig = this;\n",
       "\n",
       "    var canvas_div = $('<div/>');\n",
       "\n",
       "    canvas_div.attr('style', 'position: relative; clear: both; outline: 0');\n",
       "\n",
       "    function canvas_keyboard_event(event) {\n",
       "        return fig.key_event(event, event['data']);\n",
       "    }\n",
       "\n",
       "    canvas_div.keydown('key_press', canvas_keyboard_event);\n",
       "    canvas_div.keyup('key_release', canvas_keyboard_event);\n",
       "    this.canvas_div = canvas_div\n",
       "    this._canvas_extra_style(canvas_div)\n",
       "    this.root.append(canvas_div);\n",
       "\n",
       "    var canvas = $('<canvas/>');\n",
       "    canvas.addClass('mpl-canvas');\n",
       "    canvas.attr('style', \"left: 0; top: 0; z-index: 0; outline: 0\")\n",
       "\n",
       "    this.canvas = canvas[0];\n",
       "    this.context = canvas[0].getContext(\"2d\");\n",
       "\n",
       "    var rubberband = $('<canvas/>');\n",
       "    rubberband.attr('style', \"position: absolute; left: 0; top: 0; z-index: 1;\")\n",
       "\n",
       "    var pass_mouse_events = true;\n",
       "\n",
       "    canvas_div.resizable({\n",
       "        start: function(event, ui) {\n",
       "            pass_mouse_events = false;\n",
       "        },\n",
       "        resize: function(event, ui) {\n",
       "            fig.request_resize(ui.size.width, ui.size.height);\n",
       "        },\n",
       "        stop: function(event, ui) {\n",
       "            pass_mouse_events = true;\n",
       "            fig.request_resize(ui.size.width, ui.size.height);\n",
       "        },\n",
       "    });\n",
       "\n",
       "    function mouse_event_fn(event) {\n",
       "        if (pass_mouse_events)\n",
       "            return fig.mouse_event(event, event['data']);\n",
       "    }\n",
       "\n",
       "    rubberband.mousedown('button_press', mouse_event_fn);\n",
       "    rubberband.mouseup('button_release', mouse_event_fn);\n",
       "    // Throttle sequential mouse events to 1 every 20ms.\n",
       "    rubberband.mousemove('motion_notify', mouse_event_fn);\n",
       "\n",
       "    rubberband.mouseenter('figure_enter', mouse_event_fn);\n",
       "    rubberband.mouseleave('figure_leave', mouse_event_fn);\n",
       "\n",
       "    canvas_div.on(\"wheel\", function (event) {\n",
       "        event = event.originalEvent;\n",
       "        event['data'] = 'scroll'\n",
       "        if (event.deltaY < 0) {\n",
       "            event.step = 1;\n",
       "        } else {\n",
       "            event.step = -1;\n",
       "        }\n",
       "        mouse_event_fn(event);\n",
       "    });\n",
       "\n",
       "    canvas_div.append(canvas);\n",
       "    canvas_div.append(rubberband);\n",
       "\n",
       "    this.rubberband = rubberband;\n",
       "    this.rubberband_canvas = rubberband[0];\n",
       "    this.rubberband_context = rubberband[0].getContext(\"2d\");\n",
       "    this.rubberband_context.strokeStyle = \"#000000\";\n",
       "\n",
       "    this._resize_canvas = function(width, height) {\n",
       "        // Keep the size of the canvas, canvas container, and rubber band\n",
       "        // canvas in synch.\n",
       "        canvas_div.css('width', width)\n",
       "        canvas_div.css('height', height)\n",
       "\n",
       "        canvas.attr('width', width);\n",
       "        canvas.attr('height', height);\n",
       "\n",
       "        rubberband.attr('width', width);\n",
       "        rubberband.attr('height', height);\n",
       "    }\n",
       "\n",
       "    // Set the figure to an initial 600x600px, this will subsequently be updated\n",
       "    // upon first draw.\n",
       "    this._resize_canvas(600, 600);\n",
       "\n",
       "    // Disable right mouse context menu.\n",
       "    $(this.rubberband_canvas).bind(\"contextmenu\",function(e){\n",
       "        return false;\n",
       "    });\n",
       "\n",
       "    function set_focus () {\n",
       "        canvas.focus();\n",
       "        canvas_div.focus();\n",
       "    }\n",
       "\n",
       "    window.setTimeout(set_focus, 100);\n",
       "}\n",
       "\n",
       "mpl.figure.prototype._init_toolbar = function() {\n",
       "    var fig = this;\n",
       "\n",
       "    var nav_element = $('<div/>')\n",
       "    nav_element.attr('style', 'width: 100%');\n",
       "    this.root.append(nav_element);\n",
       "\n",
       "    // Define a callback function for later on.\n",
       "    function toolbar_event(event) {\n",
       "        return fig.toolbar_button_onclick(event['data']);\n",
       "    }\n",
       "    function toolbar_mouse_event(event) {\n",
       "        return fig.toolbar_button_onmouseover(event['data']);\n",
       "    }\n",
       "\n",
       "    for(var toolbar_ind in mpl.toolbar_items) {\n",
       "        var name = mpl.toolbar_items[toolbar_ind][0];\n",
       "        var tooltip = mpl.toolbar_items[toolbar_ind][1];\n",
       "        var image = mpl.toolbar_items[toolbar_ind][2];\n",
       "        var method_name = mpl.toolbar_items[toolbar_ind][3];\n",
       "\n",
       "        if (!name) {\n",
       "            // put a spacer in here.\n",
       "            continue;\n",
       "        }\n",
       "        var button = $('<button/>');\n",
       "        button.addClass('ui-button ui-widget ui-state-default ui-corner-all ' +\n",
       "                        'ui-button-icon-only');\n",
       "        button.attr('role', 'button');\n",
       "        button.attr('aria-disabled', 'false');\n",
       "        button.click(method_name, toolbar_event);\n",
       "        button.mouseover(tooltip, toolbar_mouse_event);\n",
       "\n",
       "        var icon_img = $('<span/>');\n",
       "        icon_img.addClass('ui-button-icon-primary ui-icon');\n",
       "        icon_img.addClass(image);\n",
       "        icon_img.addClass('ui-corner-all');\n",
       "\n",
       "        var tooltip_span = $('<span/>');\n",
       "        tooltip_span.addClass('ui-button-text');\n",
       "        tooltip_span.html(tooltip);\n",
       "\n",
       "        button.append(icon_img);\n",
       "        button.append(tooltip_span);\n",
       "\n",
       "        nav_element.append(button);\n",
       "    }\n",
       "\n",
       "    var fmt_picker_span = $('<span/>');\n",
       "\n",
       "    var fmt_picker = $('<select/>');\n",
       "    fmt_picker.addClass('mpl-toolbar-option ui-widget ui-widget-content');\n",
       "    fmt_picker_span.append(fmt_picker);\n",
       "    nav_element.append(fmt_picker_span);\n",
       "    this.format_dropdown = fmt_picker[0];\n",
       "\n",
       "    for (var ind in mpl.extensions) {\n",
       "        var fmt = mpl.extensions[ind];\n",
       "        var option = $(\n",
       "            '<option/>', {selected: fmt === mpl.default_extension}).html(fmt);\n",
       "        fmt_picker.append(option)\n",
       "    }\n",
       "\n",
       "    // Add hover states to the ui-buttons\n",
       "    $( \".ui-button\" ).hover(\n",
       "        function() { $(this).addClass(\"ui-state-hover\");},\n",
       "        function() { $(this).removeClass(\"ui-state-hover\");}\n",
       "    );\n",
       "\n",
       "    var status_bar = $('<span class=\"mpl-message\"/>');\n",
       "    nav_element.append(status_bar);\n",
       "    this.message = status_bar[0];\n",
       "}\n",
       "\n",
       "mpl.figure.prototype.request_resize = function(x_pixels, y_pixels) {\n",
       "    // Request matplotlib to resize the figure. Matplotlib will then trigger a resize in the client,\n",
       "    // which will in turn request a refresh of the image.\n",
       "    this.send_message('resize', {'width': x_pixels, 'height': y_pixels});\n",
       "}\n",
       "\n",
       "mpl.figure.prototype.send_message = function(type, properties) {\n",
       "    properties['type'] = type;\n",
       "    properties['figure_id'] = this.id;\n",
       "    this.ws.send(JSON.stringify(properties));\n",
       "}\n",
       "\n",
       "mpl.figure.prototype.send_draw_message = function() {\n",
       "    if (!this.waiting) {\n",
       "        this.waiting = true;\n",
       "        this.ws.send(JSON.stringify({type: \"draw\", figure_id: this.id}));\n",
       "    }\n",
       "}\n",
       "\n",
       "\n",
       "mpl.figure.prototype.handle_save = function(fig, msg) {\n",
       "    var format_dropdown = fig.format_dropdown;\n",
       "    var format = format_dropdown.options[format_dropdown.selectedIndex].value;\n",
       "    fig.ondownload(fig, format);\n",
       "}\n",
       "\n",
       "\n",
       "mpl.figure.prototype.handle_resize = function(fig, msg) {\n",
       "    var size = msg['size'];\n",
       "    if (size[0] != fig.canvas.width || size[1] != fig.canvas.height) {\n",
       "        fig._resize_canvas(size[0], size[1]);\n",
       "        fig.send_message(\"refresh\", {});\n",
       "    };\n",
       "}\n",
       "\n",
       "mpl.figure.prototype.handle_rubberband = function(fig, msg) {\n",
       "    var x0 = msg['x0'];\n",
       "    var y0 = fig.canvas.height - msg['y0'];\n",
       "    var x1 = msg['x1'];\n",
       "    var y1 = fig.canvas.height - msg['y1'];\n",
       "    x0 = Math.floor(x0) + 0.5;\n",
       "    y0 = Math.floor(y0) + 0.5;\n",
       "    x1 = Math.floor(x1) + 0.5;\n",
       "    y1 = Math.floor(y1) + 0.5;\n",
       "    var min_x = Math.min(x0, x1);\n",
       "    var min_y = Math.min(y0, y1);\n",
       "    var width = Math.abs(x1 - x0);\n",
       "    var height = Math.abs(y1 - y0);\n",
       "\n",
       "    fig.rubberband_context.clearRect(\n",
       "        0, 0, fig.canvas.width, fig.canvas.height);\n",
       "\n",
       "    fig.rubberband_context.strokeRect(min_x, min_y, width, height);\n",
       "}\n",
       "\n",
       "mpl.figure.prototype.handle_figure_label = function(fig, msg) {\n",
       "    // Updates the figure title.\n",
       "    fig.header.textContent = msg['label'];\n",
       "}\n",
       "\n",
       "mpl.figure.prototype.handle_cursor = function(fig, msg) {\n",
       "    var cursor = msg['cursor'];\n",
       "    switch(cursor)\n",
       "    {\n",
       "    case 0:\n",
       "        cursor = 'pointer';\n",
       "        break;\n",
       "    case 1:\n",
       "        cursor = 'default';\n",
       "        break;\n",
       "    case 2:\n",
       "        cursor = 'crosshair';\n",
       "        break;\n",
       "    case 3:\n",
       "        cursor = 'move';\n",
       "        break;\n",
       "    }\n",
       "    fig.rubberband_canvas.style.cursor = cursor;\n",
       "}\n",
       "\n",
       "mpl.figure.prototype.handle_message = function(fig, msg) {\n",
       "    fig.message.textContent = msg['message'];\n",
       "}\n",
       "\n",
       "mpl.figure.prototype.handle_draw = function(fig, msg) {\n",
       "    // Request the server to send over a new figure.\n",
       "    fig.send_draw_message();\n",
       "}\n",
       "\n",
       "mpl.figure.prototype.handle_image_mode = function(fig, msg) {\n",
       "    fig.image_mode = msg['mode'];\n",
       "}\n",
       "\n",
       "mpl.figure.prototype.updated_canvas_event = function() {\n",
       "    // Called whenever the canvas gets updated.\n",
       "    this.send_message(\"ack\", {});\n",
       "}\n",
       "\n",
       "// A function to construct a web socket function for onmessage handling.\n",
       "// Called in the figure constructor.\n",
       "mpl.figure.prototype._make_on_message_function = function(fig) {\n",
       "    return function socket_on_message(evt) {\n",
       "        if (evt.data instanceof Blob) {\n",
       "            /* FIXME: We get \"Resource interpreted as Image but\n",
       "             * transferred with MIME type text/plain:\" errors on\n",
       "             * Chrome.  But how to set the MIME type?  It doesn't seem\n",
       "             * to be part of the websocket stream */\n",
       "            evt.data.type = \"image/png\";\n",
       "\n",
       "            /* Free the memory for the previous frames */\n",
       "            if (fig.imageObj.src) {\n",
       "                (window.URL || window.webkitURL).revokeObjectURL(\n",
       "                    fig.imageObj.src);\n",
       "            }\n",
       "\n",
       "            fig.imageObj.src = (window.URL || window.webkitURL).createObjectURL(\n",
       "                evt.data);\n",
       "            fig.updated_canvas_event();\n",
       "            fig.waiting = false;\n",
       "            return;\n",
       "        }\n",
       "        else if (typeof evt.data === 'string' && evt.data.slice(0, 21) == \"data:image/png;base64\") {\n",
       "            fig.imageObj.src = evt.data;\n",
       "            fig.updated_canvas_event();\n",
       "            fig.waiting = false;\n",
       "            return;\n",
       "        }\n",
       "\n",
       "        var msg = JSON.parse(evt.data);\n",
       "        var msg_type = msg['type'];\n",
       "\n",
       "        // Call the  \"handle_{type}\" callback, which takes\n",
       "        // the figure and JSON message as its only arguments.\n",
       "        try {\n",
       "            var callback = fig[\"handle_\" + msg_type];\n",
       "        } catch (e) {\n",
       "            console.log(\"No handler for the '\" + msg_type + \"' message type: \", msg);\n",
       "            return;\n",
       "        }\n",
       "\n",
       "        if (callback) {\n",
       "            try {\n",
       "                // console.log(\"Handling '\" + msg_type + \"' message: \", msg);\n",
       "                callback(fig, msg);\n",
       "            } catch (e) {\n",
       "                console.log(\"Exception inside the 'handler_\" + msg_type + \"' callback:\", e, e.stack, msg);\n",
       "            }\n",
       "        }\n",
       "    };\n",
       "}\n",
       "\n",
       "// from http://stackoverflow.com/questions/1114465/getting-mouse-location-in-canvas\n",
       "mpl.findpos = function(e) {\n",
       "    //this section is from http://www.quirksmode.org/js/events_properties.html\n",
       "    var targ;\n",
       "    if (!e)\n",
       "        e = window.event;\n",
       "    if (e.target)\n",
       "        targ = e.target;\n",
       "    else if (e.srcElement)\n",
       "        targ = e.srcElement;\n",
       "    if (targ.nodeType == 3) // defeat Safari bug\n",
       "        targ = targ.parentNode;\n",
       "\n",
       "    // jQuery normalizes the pageX and pageY\n",
       "    // pageX,Y are the mouse positions relative to the document\n",
       "    // offset() returns the position of the element relative to the document\n",
       "    var x = e.pageX - $(targ).offset().left;\n",
       "    var y = e.pageY - $(targ).offset().top;\n",
       "\n",
       "    return {\"x\": x, \"y\": y};\n",
       "};\n",
       "\n",
       "/*\n",
       " * return a copy of an object with only non-object keys\n",
       " * we need this to avoid circular references\n",
       " * http://stackoverflow.com/a/24161582/3208463\n",
       " */\n",
       "function simpleKeys (original) {\n",
       "  return Object.keys(original).reduce(function (obj, key) {\n",
       "    if (typeof original[key] !== 'object')\n",
       "        obj[key] = original[key]\n",
       "    return obj;\n",
       "  }, {});\n",
       "}\n",
       "\n",
       "mpl.figure.prototype.mouse_event = function(event, name) {\n",
       "    var canvas_pos = mpl.findpos(event)\n",
       "\n",
       "    if (name === 'button_press')\n",
       "    {\n",
       "        this.canvas.focus();\n",
       "        this.canvas_div.focus();\n",
       "    }\n",
       "\n",
       "    var x = canvas_pos.x;\n",
       "    var y = canvas_pos.y;\n",
       "\n",
       "    this.send_message(name, {x: x, y: y, button: event.button,\n",
       "                             step: event.step,\n",
       "                             guiEvent: simpleKeys(event)});\n",
       "\n",
       "    /* This prevents the web browser from automatically changing to\n",
       "     * the text insertion cursor when the button is pressed.  We want\n",
       "     * to control all of the cursor setting manually through the\n",
       "     * 'cursor' event from matplotlib */\n",
       "    event.preventDefault();\n",
       "    return false;\n",
       "}\n",
       "\n",
       "mpl.figure.prototype._key_event_extra = function(event, name) {\n",
       "    // Handle any extra behaviour associated with a key event\n",
       "}\n",
       "\n",
       "mpl.figure.prototype.key_event = function(event, name) {\n",
       "\n",
       "    // Prevent repeat events\n",
       "    if (name == 'key_press')\n",
       "    {\n",
       "        if (event.which === this._key)\n",
       "            return;\n",
       "        else\n",
       "            this._key = event.which;\n",
       "    }\n",
       "    if (name == 'key_release')\n",
       "        this._key = null;\n",
       "\n",
       "    var value = '';\n",
       "    if (event.ctrlKey && event.which != 17)\n",
       "        value += \"ctrl+\";\n",
       "    if (event.altKey && event.which != 18)\n",
       "        value += \"alt+\";\n",
       "    if (event.shiftKey && event.which != 16)\n",
       "        value += \"shift+\";\n",
       "\n",
       "    value += 'k';\n",
       "    value += event.which.toString();\n",
       "\n",
       "    this._key_event_extra(event, name);\n",
       "\n",
       "    this.send_message(name, {key: value,\n",
       "                             guiEvent: simpleKeys(event)});\n",
       "    return false;\n",
       "}\n",
       "\n",
       "mpl.figure.prototype.toolbar_button_onclick = function(name) {\n",
       "    if (name == 'download') {\n",
       "        this.handle_save(this, null);\n",
       "    } else {\n",
       "        this.send_message(\"toolbar_button\", {name: name});\n",
       "    }\n",
       "};\n",
       "\n",
       "mpl.figure.prototype.toolbar_button_onmouseover = function(tooltip) {\n",
       "    this.message.textContent = tooltip;\n",
       "};\n",
       "mpl.toolbar_items = [[\"Home\", \"Reset original view\", \"fa fa-home icon-home\", \"home\"], [\"Back\", \"Back to  previous view\", \"fa fa-arrow-left icon-arrow-left\", \"back\"], [\"Forward\", \"Forward to next view\", \"fa fa-arrow-right icon-arrow-right\", \"forward\"], [\"\", \"\", \"\", \"\"], [\"Pan\", \"Pan axes with left mouse, zoom with right\", \"fa fa-arrows icon-move\", \"pan\"], [\"Zoom\", \"Zoom to rectangle\", \"fa fa-square-o icon-check-empty\", \"zoom\"], [\"\", \"\", \"\", \"\"], [\"Download\", \"Download plot\", \"fa fa-floppy-o icon-save\", \"download\"]];\n",
       "\n",
       "mpl.extensions = [\"eps\", \"pdf\", \"png\", \"ps\", \"raw\", \"svg\"];\n",
       "\n",
       "mpl.default_extension = \"png\";var comm_websocket_adapter = function(comm) {\n",
       "    // Create a \"websocket\"-like object which calls the given IPython comm\n",
       "    // object with the appropriate methods. Currently this is a non binary\n",
       "    // socket, so there is still some room for performance tuning.\n",
       "    var ws = {};\n",
       "\n",
       "    ws.close = function() {\n",
       "        comm.close()\n",
       "    };\n",
       "    ws.send = function(m) {\n",
       "        //console.log('sending', m);\n",
       "        comm.send(m);\n",
       "    };\n",
       "    // Register the callback with on_msg.\n",
       "    comm.on_msg(function(msg) {\n",
       "        //console.log('receiving', msg['content']['data'], msg);\n",
       "        // Pass the mpl event to the overriden (by mpl) onmessage function.\n",
       "        ws.onmessage(msg['content']['data'])\n",
       "    });\n",
       "    return ws;\n",
       "}\n",
       "\n",
       "mpl.mpl_figure_comm = function(comm, msg) {\n",
       "    // This is the function which gets called when the mpl process\n",
       "    // starts-up an IPython Comm through the \"matplotlib\" channel.\n",
       "\n",
       "    var id = msg.content.data.id;\n",
       "    // Get hold of the div created by the display call when the Comm\n",
       "    // socket was opened in Python.\n",
       "    var element = $(\"#\" + id);\n",
       "    var ws_proxy = comm_websocket_adapter(comm)\n",
       "\n",
       "    function ondownload(figure, format) {\n",
       "        window.open(figure.imageObj.src);\n",
       "    }\n",
       "\n",
       "    var fig = new mpl.figure(id, ws_proxy,\n",
       "                           ondownload,\n",
       "                           element.get(0));\n",
       "\n",
       "    // Call onopen now - mpl needs it, as it is assuming we've passed it a real\n",
       "    // web socket which is closed, not our websocket->open comm proxy.\n",
       "    ws_proxy.onopen();\n",
       "\n",
       "    fig.parent_element = element.get(0);\n",
       "    fig.cell_info = mpl.find_output_cell(\"<div id='\" + id + \"'></div>\");\n",
       "    if (!fig.cell_info) {\n",
       "        console.error(\"Failed to find cell for figure\", id, fig);\n",
       "        return;\n",
       "    }\n",
       "\n",
       "    var output_index = fig.cell_info[2]\n",
       "    var cell = fig.cell_info[0];\n",
       "\n",
       "};\n",
       "\n",
       "mpl.figure.prototype.handle_close = function(fig, msg) {\n",
       "    fig.root.unbind('remove')\n",
       "\n",
       "    // Update the output cell to use the data from the current canvas.\n",
       "    fig.push_to_output();\n",
       "    var dataURL = fig.canvas.toDataURL();\n",
       "    // Re-enable the keyboard manager in IPython - without this line, in FF,\n",
       "    // the notebook keyboard shortcuts fail.\n",
       "    IPython.keyboard_manager.enable()\n",
       "    $(fig.parent_element).html('<img src=\"' + dataURL + '\">');\n",
       "    fig.close_ws(fig, msg);\n",
       "}\n",
       "\n",
       "mpl.figure.prototype.close_ws = function(fig, msg){\n",
       "    fig.send_message('closing', msg);\n",
       "    // fig.ws.close()\n",
       "}\n",
       "\n",
       "mpl.figure.prototype.push_to_output = function(remove_interactive) {\n",
       "    // Turn the data on the canvas into data in the output cell.\n",
       "    var dataURL = this.canvas.toDataURL();\n",
       "    this.cell_info[1]['text/html'] = '<img src=\"' + dataURL + '\">';\n",
       "}\n",
       "\n",
       "mpl.figure.prototype.updated_canvas_event = function() {\n",
       "    // Tell IPython that the notebook contents must change.\n",
       "    IPython.notebook.set_dirty(true);\n",
       "    this.send_message(\"ack\", {});\n",
       "    var fig = this;\n",
       "    // Wait a second, then push the new image to the DOM so\n",
       "    // that it is saved nicely (might be nice to debounce this).\n",
       "    setTimeout(function () { fig.push_to_output() }, 1000);\n",
       "}\n",
       "\n",
       "mpl.figure.prototype._init_toolbar = function() {\n",
       "    var fig = this;\n",
       "\n",
       "    var nav_element = $('<div/>')\n",
       "    nav_element.attr('style', 'width: 100%');\n",
       "    this.root.append(nav_element);\n",
       "\n",
       "    // Define a callback function for later on.\n",
       "    function toolbar_event(event) {\n",
       "        return fig.toolbar_button_onclick(event['data']);\n",
       "    }\n",
       "    function toolbar_mouse_event(event) {\n",
       "        return fig.toolbar_button_onmouseover(event['data']);\n",
       "    }\n",
       "\n",
       "    for(var toolbar_ind in mpl.toolbar_items){\n",
       "        var name = mpl.toolbar_items[toolbar_ind][0];\n",
       "        var tooltip = mpl.toolbar_items[toolbar_ind][1];\n",
       "        var image = mpl.toolbar_items[toolbar_ind][2];\n",
       "        var method_name = mpl.toolbar_items[toolbar_ind][3];\n",
       "\n",
       "        if (!name) { continue; };\n",
       "\n",
       "        var button = $('<button class=\"btn btn-default\" href=\"#\" title=\"' + name + '\"><i class=\"fa ' + image + ' fa-lg\"></i></button>');\n",
       "        button.click(method_name, toolbar_event);\n",
       "        button.mouseover(tooltip, toolbar_mouse_event);\n",
       "        nav_element.append(button);\n",
       "    }\n",
       "\n",
       "    // Add the status bar.\n",
       "    var status_bar = $('<span class=\"mpl-message\" style=\"text-align:right; float: right;\"/>');\n",
       "    nav_element.append(status_bar);\n",
       "    this.message = status_bar[0];\n",
       "\n",
       "    // Add the close button to the window.\n",
       "    var buttongrp = $('<div class=\"btn-group inline pull-right\"></div>');\n",
       "    var button = $('<button class=\"btn btn-mini btn-primary\" href=\"#\" title=\"Stop Interaction\"><i class=\"fa fa-power-off icon-remove icon-large\"></i></button>');\n",
       "    button.click(function (evt) { fig.handle_close(fig, {}); } );\n",
       "    button.mouseover('Stop Interaction', toolbar_mouse_event);\n",
       "    buttongrp.append(button);\n",
       "    var titlebar = this.root.find($('.ui-dialog-titlebar'));\n",
       "    titlebar.prepend(buttongrp);\n",
       "}\n",
       "\n",
       "mpl.figure.prototype._root_extra_style = function(el){\n",
       "    var fig = this\n",
       "    el.on(\"remove\", function(){\n",
       "\tfig.close_ws(fig, {});\n",
       "    });\n",
       "}\n",
       "\n",
       "mpl.figure.prototype._canvas_extra_style = function(el){\n",
       "    // this is important to make the div 'focusable\n",
       "    el.attr('tabindex', 0)\n",
       "    // reach out to IPython and tell the keyboard manager to turn it's self\n",
       "    // off when our div gets focus\n",
       "\n",
       "    // location in version 3\n",
       "    if (IPython.notebook.keyboard_manager) {\n",
       "        IPython.notebook.keyboard_manager.register_events(el);\n",
       "    }\n",
       "    else {\n",
       "        // location in version 2\n",
       "        IPython.keyboard_manager.register_events(el);\n",
       "    }\n",
       "\n",
       "}\n",
       "\n",
       "mpl.figure.prototype._key_event_extra = function(event, name) {\n",
       "    var manager = IPython.notebook.keyboard_manager;\n",
       "    if (!manager)\n",
       "        manager = IPython.keyboard_manager;\n",
       "\n",
       "    // Check for shift+enter\n",
       "    if (event.shiftKey && event.which == 13) {\n",
       "        this.canvas_div.blur();\n",
       "        event.shiftKey = false;\n",
       "        // Send a \"J\" for go to next cell\n",
       "        event.which = 74;\n",
       "        event.keyCode = 74;\n",
       "        manager.command_mode();\n",
       "        manager.handle_keydown(event);\n",
       "    }\n",
       "}\n",
       "\n",
       "mpl.figure.prototype.handle_save = function(fig, msg) {\n",
       "    fig.ondownload(fig, null);\n",
       "}\n",
       "\n",
       "\n",
       "mpl.find_output_cell = function(html_output) {\n",
       "    // Return the cell and output element which can be found *uniquely* in the notebook.\n",
       "    // Note - this is a bit hacky, but it is done because the \"notebook_saving.Notebook\"\n",
       "    // IPython event is triggered only after the cells have been serialised, which for\n",
       "    // our purposes (turning an active figure into a static one), is too late.\n",
       "    var cells = IPython.notebook.get_cells();\n",
       "    var ncells = cells.length;\n",
       "    for (var i=0; i<ncells; i++) {\n",
       "        var cell = cells[i];\n",
       "        if (cell.cell_type === 'code'){\n",
       "            for (var j=0; j<cell.output_area.outputs.length; j++) {\n",
       "                var data = cell.output_area.outputs[j];\n",
       "                if (data.data) {\n",
       "                    // IPython >= 3 moved mimebundle to data attribute of output\n",
       "                    data = data.data;\n",
       "                }\n",
       "                if (data['text/html'] == html_output) {\n",
       "                    return [cell, data, j];\n",
       "                }\n",
       "            }\n",
       "        }\n",
       "    }\n",
       "}\n",
       "\n",
       "// Register the function which deals with the matplotlib target/channel.\n",
       "// The kernel may be null if the page has been refreshed.\n",
       "if (IPython.notebook.kernel != null) {\n",
       "    IPython.notebook.kernel.comm_manager.register_target('matplotlib', mpl.mpl_figure_comm);\n",
       "}\n"
      ],
      "text/plain": [
       "<IPython.core.display.Javascript object>"
      ]
     },
     "metadata": {},
     "output_type": "display_data"
    },
    {
     "data": {
      "text/html": [
       "<img src=\"data:image/png;base64,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\">"
      ],
      "text/plain": [
       "<IPython.core.display.HTML object>"
      ]
     },
     "metadata": {},
     "output_type": "display_data"
    },
    {
     "data": {
      "text/plain": [
       "[<matplotlib.lines.Line2D at 0x7fd14d41ff50>]"
      ]
     },
     "execution_count": 16,
     "metadata": {},
     "output_type": "execute_result"
    }
   ],
   "source": [
    "ts=pytimber.parsedate(\"2016-07-01 03:10:15.000\")\n",
    "ib1=\"LHC.BCTFR.A6R4.B1:BUNCH_INTENSITY\"\n",
    "ib2=\"LHC.BCTFR.A6R4.B2:BUNCH_INTENSITY\"\n",
    "data=db.get([ib1,ib2],ts,'next')\n",
    "timestamps,valuesb1=data[ib1]\n",
    "timestamps,valuesb2=data[ib2]\n",
    "pl.plot(valuesb1[0])\n",
    "pl.plot(valuesb2[0])"
   ]
  },
  {
   "cell_type": "code",
   "execution_count": 101,
   "metadata": {
    "collapsed": true
   },
   "outputs": [],
   "source": [
    "ts=pytimber.parsedate(\"2016-07-01 03:10:15.000\")\n",
    "ib1=\"LHC.BCTFR.A6R4.B1:BUNCH_INTENSITY\"\n",
    "ib2=\"LHC.BCTFR.A6R4.B2:BUNCH_INTENSITY\"\n",
    "data=db.get([ib1,ib2],ts,ts+60)\n",
    "timestamps,valuesb1=data[ib1]\n",
    "timestamps,valuesb2=data[ib2]"
   ]
  },
  {
   "cell_type": "code",
   "execution_count": 17,
   "metadata": {
    "collapsed": false
   },
   "outputs": [],
   "source": [
    "pl.imshow(valuesb1,aspect='auto',origin='bottom')\n",
    "pl.ylabel('seconds'); pl.xlabel(\"slot number\")\n",
    "pl.colorbar(); pl.clim(9e10,12e10)"
   ]
  },
  {
   "cell_type": "code",
   "execution_count": 18,
   "metadata": {
    "collapsed": false
   },
   "outputs": [],
   "source": [
    "pl.imshow(valuesb2,aspect='auto',origin='bottom')\n",
    "pl.ylabel('seconds'); pl.xlabel(\"slot number\")\n",
    "pl.colorbar(); pl.clim(9e10,12e10)"
   ]
  }
 ],
 "metadata": {
  "kernelspec": {
   "display_name": "Python 2",
   "language": "python",
   "name": "python2"
  },
  "language_info": {
   "codemirror_mode": {
    "name": "ipython",
    "version": 2
   },
   "file_extension": ".py",
   "mimetype": "text/x-python",
   "name": "python",
   "nbconvert_exporter": "python",
   "pygments_lexer": "ipython2",
   "version": "2.7.10"
  }
 },
 "nbformat": 4,
 "nbformat_minor": 0
}
